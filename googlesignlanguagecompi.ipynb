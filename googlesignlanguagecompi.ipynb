{
 "cells": [
  {
   "cell_type": "markdown",
   "id": "a35d67a3",
   "metadata": {
    "papermill": {
     "duration": 0.00958,
     "end_time": "2023-05-19T14:19:11.098358",
     "exception": false,
     "start_time": "2023-05-19T14:19:11.088778",
     "status": "completed"
    },
    "tags": []
   },
   "source": [
    "# ACM PROJECT: Sign Language Recognition"
   ]
  },
  {
   "cell_type": "markdown",
   "id": "90a71e20",
   "metadata": {
    "papermill": {
     "duration": 0.007915,
     "end_time": "2023-05-19T14:19:11.114466",
     "exception": false,
     "start_time": "2023-05-19T14:19:11.106551",
     "status": "completed"
    },
    "tags": []
   },
   "source": [
    "## Main Imports"
   ]
  },
  {
   "cell_type": "code",
   "execution_count": 1,
   "id": "072f69d1",
   "metadata": {
    "_cell_guid": "b1076dfc-b9ad-4769-8c92-a6c4dae69d19",
    "_uuid": "8f2839f25d086af736a60e9eeb907d3b93b6e0e5",
    "execution": {
     "iopub.execute_input": "2023-05-19T14:19:11.132334Z",
     "iopub.status.busy": "2023-05-19T14:19:11.131783Z",
     "iopub.status.idle": "2023-05-19T14:19:12.379969Z",
     "shell.execute_reply": "2023-05-19T14:19:12.378768Z"
    },
    "papermill": {
     "duration": 1.261163,
     "end_time": "2023-05-19T14:19:12.383454",
     "exception": false,
     "start_time": "2023-05-19T14:19:11.122291",
     "status": "completed"
    },
    "tags": []
   },
   "outputs": [
    {
     "name": "stdout",
     "output_type": "stream",
     "text": [
      "Files successfully input\n"
     ]
    }
   ],
   "source": [
    "import numpy as np \n",
    "import pandas as pd \n",
    "import matplotlib.pyplot as plt\n",
    "import os\n",
    "import seaborn as sns\n",
    "print(\"Files successfully input\")"
   ]
  },
  {
   "cell_type": "markdown",
   "id": "24345e9d",
   "metadata": {
    "papermill": {
     "duration": 0.008302,
     "end_time": "2023-05-19T14:19:12.400030",
     "exception": false,
     "start_time": "2023-05-19T14:19:12.391728",
     "status": "completed"
    },
    "tags": []
   },
   "source": [
    "## Parquet and CSV linkage"
   ]
  },
  {
   "cell_type": "code",
   "execution_count": 2,
   "id": "8ddbfdd9",
   "metadata": {
    "execution": {
     "iopub.execute_input": "2023-05-19T14:19:12.417959Z",
     "iopub.status.busy": "2023-05-19T14:19:12.417527Z",
     "iopub.status.idle": "2023-05-19T14:19:12.651839Z",
     "shell.execute_reply": "2023-05-19T14:19:12.650598Z"
    },
    "papermill": {
     "duration": 0.246405,
     "end_time": "2023-05-19T14:19:12.654556",
     "exception": false,
     "start_time": "2023-05-19T14:19:12.408151",
     "status": "completed"
    },
    "tags": []
   },
   "outputs": [
    {
     "data": {
      "text/html": [
       "<div>\n",
       "<style scoped>\n",
       "    .dataframe tbody tr th:only-of-type {\n",
       "        vertical-align: middle;\n",
       "    }\n",
       "\n",
       "    .dataframe tbody tr th {\n",
       "        vertical-align: top;\n",
       "    }\n",
       "\n",
       "    .dataframe thead th {\n",
       "        text-align: right;\n",
       "    }\n",
       "</style>\n",
       "<table border=\"1\" class=\"dataframe\">\n",
       "  <thead>\n",
       "    <tr style=\"text-align: right;\">\n",
       "      <th></th>\n",
       "      <th>path</th>\n",
       "      <th>participant_id</th>\n",
       "      <th>sequence_id</th>\n",
       "      <th>sign</th>\n",
       "    </tr>\n",
       "  </thead>\n",
       "  <tbody>\n",
       "    <tr>\n",
       "      <th>0</th>\n",
       "      <td>train_landmark_files/26734/1000035562.parquet</td>\n",
       "      <td>26734</td>\n",
       "      <td>1000035562</td>\n",
       "      <td>blow</td>\n",
       "    </tr>\n",
       "    <tr>\n",
       "      <th>1</th>\n",
       "      <td>train_landmark_files/28656/1000106739.parquet</td>\n",
       "      <td>28656</td>\n",
       "      <td>1000106739</td>\n",
       "      <td>wait</td>\n",
       "    </tr>\n",
       "    <tr>\n",
       "      <th>2</th>\n",
       "      <td>train_landmark_files/16069/100015657.parquet</td>\n",
       "      <td>16069</td>\n",
       "      <td>100015657</td>\n",
       "      <td>cloud</td>\n",
       "    </tr>\n",
       "    <tr>\n",
       "      <th>3</th>\n",
       "      <td>train_landmark_files/25571/1000210073.parquet</td>\n",
       "      <td>25571</td>\n",
       "      <td>1000210073</td>\n",
       "      <td>bird</td>\n",
       "    </tr>\n",
       "    <tr>\n",
       "      <th>4</th>\n",
       "      <td>train_landmark_files/62590/1000240708.parquet</td>\n",
       "      <td>62590</td>\n",
       "      <td>1000240708</td>\n",
       "      <td>owie</td>\n",
       "    </tr>\n",
       "  </tbody>\n",
       "</table>\n",
       "</div>"
      ],
      "text/plain": [
       "                                            path  participant_id  sequence_id  \\\n",
       "0  train_landmark_files/26734/1000035562.parquet           26734   1000035562   \n",
       "1  train_landmark_files/28656/1000106739.parquet           28656   1000106739   \n",
       "2   train_landmark_files/16069/100015657.parquet           16069    100015657   \n",
       "3  train_landmark_files/25571/1000210073.parquet           25571   1000210073   \n",
       "4  train_landmark_files/62590/1000240708.parquet           62590   1000240708   \n",
       "\n",
       "    sign  \n",
       "0   blow  \n",
       "1   wait  \n",
       "2  cloud  \n",
       "3   bird  \n",
       "4   owie  "
      ]
     },
     "execution_count": 2,
     "metadata": {},
     "output_type": "execute_result"
    }
   ],
   "source": [
    "trainmain = pd.read_csv(\"/kaggle/input/asl-signs/train.csv\")\n",
    "trainmain.head()"
   ]
  },
  {
   "cell_type": "code",
   "execution_count": 3,
   "id": "9c95706f",
   "metadata": {
    "execution": {
     "iopub.execute_input": "2023-05-19T14:19:12.673530Z",
     "iopub.status.busy": "2023-05-19T14:19:12.673148Z",
     "iopub.status.idle": "2023-05-19T14:19:12.680657Z",
     "shell.execute_reply": "2023-05-19T14:19:12.679514Z"
    },
    "papermill": {
     "duration": 0.019933,
     "end_time": "2023-05-19T14:19:12.683151",
     "exception": false,
     "start_time": "2023-05-19T14:19:12.663218",
     "status": "completed"
    },
    "tags": []
   },
   "outputs": [
    {
     "data": {
      "text/plain": [
       "(94477, 4)"
      ]
     },
     "execution_count": 3,
     "metadata": {},
     "output_type": "execute_result"
    }
   ],
   "source": [
    "trainmain.shape"
   ]
  },
  {
   "cell_type": "markdown",
   "id": "d3816515",
   "metadata": {
    "papermill": {
     "duration": 0.008243,
     "end_time": "2023-05-19T14:19:12.699987",
     "exception": false,
     "start_time": "2023-05-19T14:19:12.691744",
     "status": "completed"
    },
    "tags": []
   },
   "source": [
    "Given files are in train_landmark_files subfolder and in parquet format. We have been given a train.csv file that contains the location of each parquet file that is associated with output. We need to link the two data sources to begin EDA. Let's start by building a simple function that takes in parquet data at given location!"
   ]
  },
  {
   "cell_type": "code",
   "execution_count": 4,
   "id": "30bbf055",
   "metadata": {
    "execution": {
     "iopub.execute_input": "2023-05-19T14:19:12.718961Z",
     "iopub.status.busy": "2023-05-19T14:19:12.717876Z",
     "iopub.status.idle": "2023-05-19T14:19:12.724423Z",
     "shell.execute_reply": "2023-05-19T14:19:12.723363Z"
    },
    "papermill": {
     "duration": 0.018639,
     "end_time": "2023-05-19T14:19:12.726929",
     "exception": false,
     "start_time": "2023-05-19T14:19:12.708290",
     "status": "completed"
    },
    "tags": []
   },
   "outputs": [],
   "source": [
    "def get_pq_data(path):\n",
    "    '''\n",
    "    Essentially a wrapper function that simplifies our workload\n",
    "    '''\n",
    "    return pd.read_parquet(\"/kaggle/input/asl-signs/\"+path,engine = 'auto')"
   ]
  },
  {
   "cell_type": "code",
   "execution_count": 5,
   "id": "3b248ad8",
   "metadata": {
    "execution": {
     "iopub.execute_input": "2023-05-19T14:19:12.746305Z",
     "iopub.status.busy": "2023-05-19T14:19:12.745234Z",
     "iopub.status.idle": "2023-05-19T14:19:12.955046Z",
     "shell.execute_reply": "2023-05-19T14:19:12.953789Z"
    },
    "papermill": {
     "duration": 0.222176,
     "end_time": "2023-05-19T14:19:12.957737",
     "exception": false,
     "start_time": "2023-05-19T14:19:12.735561",
     "status": "completed"
    },
    "tags": []
   },
   "outputs": [
    {
     "data": {
      "text/html": [
       "<div>\n",
       "<style scoped>\n",
       "    .dataframe tbody tr th:only-of-type {\n",
       "        vertical-align: middle;\n",
       "    }\n",
       "\n",
       "    .dataframe tbody tr th {\n",
       "        vertical-align: top;\n",
       "    }\n",
       "\n",
       "    .dataframe thead th {\n",
       "        text-align: right;\n",
       "    }\n",
       "</style>\n",
       "<table border=\"1\" class=\"dataframe\">\n",
       "  <thead>\n",
       "    <tr style=\"text-align: right;\">\n",
       "      <th></th>\n",
       "      <th>frame</th>\n",
       "      <th>row_id</th>\n",
       "      <th>type</th>\n",
       "      <th>landmark_index</th>\n",
       "      <th>x</th>\n",
       "      <th>y</th>\n",
       "      <th>z</th>\n",
       "    </tr>\n",
       "  </thead>\n",
       "  <tbody>\n",
       "    <tr>\n",
       "      <th>0</th>\n",
       "      <td>103</td>\n",
       "      <td>103-face-0</td>\n",
       "      <td>face</td>\n",
       "      <td>0</td>\n",
       "      <td>0.437886</td>\n",
       "      <td>0.437599</td>\n",
       "      <td>-0.051134</td>\n",
       "    </tr>\n",
       "    <tr>\n",
       "      <th>1</th>\n",
       "      <td>103</td>\n",
       "      <td>103-face-1</td>\n",
       "      <td>face</td>\n",
       "      <td>1</td>\n",
       "      <td>0.443258</td>\n",
       "      <td>0.392901</td>\n",
       "      <td>-0.067054</td>\n",
       "    </tr>\n",
       "    <tr>\n",
       "      <th>2</th>\n",
       "      <td>103</td>\n",
       "      <td>103-face-2</td>\n",
       "      <td>face</td>\n",
       "      <td>2</td>\n",
       "      <td>0.443997</td>\n",
       "      <td>0.409998</td>\n",
       "      <td>-0.042990</td>\n",
       "    </tr>\n",
       "    <tr>\n",
       "      <th>3</th>\n",
       "      <td>103</td>\n",
       "      <td>103-face-3</td>\n",
       "      <td>face</td>\n",
       "      <td>3</td>\n",
       "      <td>0.435256</td>\n",
       "      <td>0.362771</td>\n",
       "      <td>-0.039492</td>\n",
       "    </tr>\n",
       "    <tr>\n",
       "      <th>4</th>\n",
       "      <td>103</td>\n",
       "      <td>103-face-4</td>\n",
       "      <td>face</td>\n",
       "      <td>4</td>\n",
       "      <td>0.443780</td>\n",
       "      <td>0.381762</td>\n",
       "      <td>-0.068013</td>\n",
       "    </tr>\n",
       "  </tbody>\n",
       "</table>\n",
       "</div>"
      ],
      "text/plain": [
       "   frame      row_id  type  landmark_index         x         y         z\n",
       "0    103  103-face-0  face               0  0.437886  0.437599 -0.051134\n",
       "1    103  103-face-1  face               1  0.443258  0.392901 -0.067054\n",
       "2    103  103-face-2  face               2  0.443997  0.409998 -0.042990\n",
       "3    103  103-face-3  face               3  0.435256  0.362771 -0.039492\n",
       "4    103  103-face-4  face               4  0.443780  0.381762 -0.068013"
      ]
     },
     "execution_count": 5,
     "metadata": {},
     "output_type": "execute_result"
    }
   ],
   "source": [
    "# Testing above function to see if it works\n",
    "t_data = get_pq_data('train_landmark_files/16069/100015657.parquet')\n",
    "t_data.head()"
   ]
  },
  {
   "cell_type": "code",
   "execution_count": 6,
   "id": "cd944334",
   "metadata": {
    "execution": {
     "iopub.execute_input": "2023-05-19T14:19:12.979594Z",
     "iopub.status.busy": "2023-05-19T14:19:12.978873Z",
     "iopub.status.idle": "2023-05-19T14:19:13.019156Z",
     "shell.execute_reply": "2023-05-19T14:19:13.017786Z"
    },
    "papermill": {
     "duration": 0.054286,
     "end_time": "2023-05-19T14:19:13.022123",
     "exception": false,
     "start_time": "2023-05-19T14:19:12.967837",
     "status": "completed"
    },
    "tags": []
   },
   "outputs": [
    {
     "data": {
      "text/html": [
       "<div>\n",
       "<style scoped>\n",
       "    .dataframe tbody tr th:only-of-type {\n",
       "        vertical-align: middle;\n",
       "    }\n",
       "\n",
       "    .dataframe tbody tr th {\n",
       "        vertical-align: top;\n",
       "    }\n",
       "\n",
       "    .dataframe thead th {\n",
       "        text-align: right;\n",
       "    }\n",
       "</style>\n",
       "<table border=\"1\" class=\"dataframe\">\n",
       "  <thead>\n",
       "    <tr style=\"text-align: right;\">\n",
       "      <th></th>\n",
       "      <th>frame</th>\n",
       "      <th>row_id</th>\n",
       "      <th>type</th>\n",
       "      <th>landmark_index</th>\n",
       "      <th>x</th>\n",
       "      <th>y</th>\n",
       "      <th>z</th>\n",
       "    </tr>\n",
       "  </thead>\n",
       "  <tbody>\n",
       "    <tr>\n",
       "      <th>0</th>\n",
       "      <td>29</td>\n",
       "      <td>29-face-0</td>\n",
       "      <td>face</td>\n",
       "      <td>0</td>\n",
       "      <td>0.577776</td>\n",
       "      <td>0.509360</td>\n",
       "      <td>-0.050245</td>\n",
       "    </tr>\n",
       "    <tr>\n",
       "      <th>1</th>\n",
       "      <td>29</td>\n",
       "      <td>29-face-1</td>\n",
       "      <td>face</td>\n",
       "      <td>1</td>\n",
       "      <td>0.572079</td>\n",
       "      <td>0.470164</td>\n",
       "      <td>-0.075696</td>\n",
       "    </tr>\n",
       "    <tr>\n",
       "      <th>2</th>\n",
       "      <td>29</td>\n",
       "      <td>29-face-2</td>\n",
       "      <td>face</td>\n",
       "      <td>2</td>\n",
       "      <td>0.572135</td>\n",
       "      <td>0.483382</td>\n",
       "      <td>-0.044619</td>\n",
       "    </tr>\n",
       "    <tr>\n",
       "      <th>3</th>\n",
       "      <td>29</td>\n",
       "      <td>29-face-3</td>\n",
       "      <td>face</td>\n",
       "      <td>3</td>\n",
       "      <td>0.561517</td>\n",
       "      <td>0.437963</td>\n",
       "      <td>-0.050466</td>\n",
       "    </tr>\n",
       "    <tr>\n",
       "      <th>4</th>\n",
       "      <td>29</td>\n",
       "      <td>29-face-4</td>\n",
       "      <td>face</td>\n",
       "      <td>4</td>\n",
       "      <td>0.572215</td>\n",
       "      <td>0.459153</td>\n",
       "      <td>-0.078405</td>\n",
       "    </tr>\n",
       "  </tbody>\n",
       "</table>\n",
       "</div>"
      ],
      "text/plain": [
       "   frame     row_id  type  landmark_index         x         y         z\n",
       "0     29  29-face-0  face               0  0.577776  0.509360 -0.050245\n",
       "1     29  29-face-1  face               1  0.572079  0.470164 -0.075696\n",
       "2     29  29-face-2  face               2  0.572135  0.483382 -0.044619\n",
       "3     29  29-face-3  face               3  0.561517  0.437963 -0.050466\n",
       "4     29  29-face-4  face               4  0.572215  0.459153 -0.078405"
      ]
     },
     "execution_count": 6,
     "metadata": {},
     "output_type": "execute_result"
    }
   ],
   "source": [
    "# Our function works let's use it to get one row from train.csv\n",
    "t_data = get_pq_data(trainmain['path'][1])\n",
    "t_data.head()"
   ]
  },
  {
   "cell_type": "code",
   "execution_count": 7,
   "id": "f04312d0",
   "metadata": {
    "execution": {
     "iopub.execute_input": "2023-05-19T14:19:13.043146Z",
     "iopub.status.busy": "2023-05-19T14:19:13.042554Z",
     "iopub.status.idle": "2023-05-19T14:19:13.064488Z",
     "shell.execute_reply": "2023-05-19T14:19:13.063187Z"
    },
    "papermill": {
     "duration": 0.0351,
     "end_time": "2023-05-19T14:19:13.067374",
     "exception": false,
     "start_time": "2023-05-19T14:19:13.032274",
     "status": "completed"
    },
    "tags": []
   },
   "outputs": [
    {
     "name": "stdout",
     "output_type": "stream",
     "text": [
      "<class 'pandas.core.frame.DataFrame'>\n",
      "RangeIndex: 5973 entries, 0 to 5972\n",
      "Data columns (total 7 columns):\n",
      " #   Column          Non-Null Count  Dtype  \n",
      "---  ------          --------------  -----  \n",
      " 0   frame           5973 non-null   int16  \n",
      " 1   row_id          5973 non-null   object \n",
      " 2   type            5973 non-null   object \n",
      " 3   landmark_index  5973 non-null   int16  \n",
      " 4   x               5553 non-null   float64\n",
      " 5   y               5553 non-null   float64\n",
      " 6   z               5553 non-null   float64\n",
      "dtypes: float64(3), int16(2), object(2)\n",
      "memory usage: 256.8+ KB\n"
     ]
    }
   ],
   "source": [
    "t_data.info()"
   ]
  },
  {
   "cell_type": "code",
   "execution_count": 8,
   "id": "c7747362",
   "metadata": {
    "execution": {
     "iopub.execute_input": "2023-05-19T14:19:13.088866Z",
     "iopub.status.busy": "2023-05-19T14:19:13.087681Z",
     "iopub.status.idle": "2023-05-19T14:19:13.096764Z",
     "shell.execute_reply": "2023-05-19T14:19:13.095475Z"
    },
    "papermill": {
     "duration": 0.022236,
     "end_time": "2023-05-19T14:19:13.099372",
     "exception": false,
     "start_time": "2023-05-19T14:19:13.077136",
     "status": "completed"
    },
    "tags": []
   },
   "outputs": [
    {
     "data": {
      "text/plain": [
       "array(['face', 'left_hand', 'pose', 'right_hand'], dtype=object)"
      ]
     },
     "execution_count": 8,
     "metadata": {},
     "output_type": "execute_result"
    }
   ],
   "source": [
    "t_data['type'].unique()"
   ]
  },
  {
   "cell_type": "code",
   "execution_count": 9,
   "id": "35d6181f",
   "metadata": {
    "execution": {
     "iopub.execute_input": "2023-05-19T14:19:13.119587Z",
     "iopub.status.busy": "2023-05-19T14:19:13.118862Z",
     "iopub.status.idle": "2023-05-19T14:19:13.400918Z",
     "shell.execute_reply": "2023-05-19T14:19:13.399533Z"
    },
    "papermill": {
     "duration": 0.297043,
     "end_time": "2023-05-19T14:19:13.405540",
     "exception": false,
     "start_time": "2023-05-19T14:19:13.108497",
     "status": "completed"
    },
    "tags": []
   },
   "outputs": [
    {
     "name": "stdout",
     "output_type": "stream",
     "text": [
      "2.2179934978485107\n"
     ]
    },
    {
     "data": {
      "image/png": "[encoded data removed]",
      "text/plain": [
       "<Figure size 640x480 with 1 Axes>"
      ]
     },
     "metadata": {},
     "output_type": "display_data"
    }
   ],
   "source": [
    "# Taking inspiration from another project let's try to create an image out of landmark data\n",
    "def draw_landmarks_basic(ldmrkdat):\n",
    "    # This is a very basic version that doesn't consider the structuring of human arms\n",
    "    plt.scatter(ldmrkdat['x'],ldmrkdat['y'])\n",
    "    print(ldmrkdat['y'].max())\n",
    "    plt.show()\n",
    "draw_landmarks_basic(t_data.loc[ t_data['frame'] == 29 ])"
   ]
  },
  {
   "cell_type": "code",
   "execution_count": 10,
   "id": "37b54fd0",
   "metadata": {
    "execution": {
     "iopub.execute_input": "2023-05-19T14:19:13.427576Z",
     "iopub.status.busy": "2023-05-19T14:19:13.427205Z",
     "iopub.status.idle": "2023-05-19T14:19:13.782017Z",
     "shell.execute_reply": "2023-05-19T14:19:13.780865Z"
    },
    "papermill": {
     "duration": 0.368786,
     "end_time": "2023-05-19T14:19:13.784859",
     "exception": false,
     "start_time": "2023-05-19T14:19:13.416073",
     "status": "completed"
    },
    "tags": []
   },
   "outputs": [
    {
     "data": {
      "image/png": "[encoded data removed]",
      "text/plain": [
       "<Figure size 640x480 with 1 Axes>"
      ]
     },
     "metadata": {},
     "output_type": "display_data"
    }
   ],
   "source": [
    "# The Above graph doesn't give us much information about understanding what we have here\n",
    "# let's try colouring the landmarks on the type\n",
    "def draw_landmarks_basicv2(ldkm):\n",
    "    sns.scatterplot(x= ldkm['x']*250,y= ldkm['y']*250, hue=ldkm['type'])\n",
    "    plt.show()\n",
    "draw_landmarks_basicv2(t_data.loc[ t_data['frame'] == 29 ])   "
   ]
  },
  {
   "cell_type": "code",
   "execution_count": 11,
   "id": "e6a3ce03",
   "metadata": {
    "execution": {
     "iopub.execute_input": "2023-05-19T14:19:13.807443Z",
     "iopub.status.busy": "2023-05-19T14:19:13.807083Z",
     "iopub.status.idle": "2023-05-19T14:19:14.170522Z",
     "shell.execute_reply": "2023-05-19T14:19:14.169266Z"
    },
    "papermill": {
     "duration": 0.381446,
     "end_time": "2023-05-19T14:19:14.176838",
     "exception": false,
     "start_time": "2023-05-19T14:19:13.795392",
     "status": "completed"
    },
    "tags": []
   },
   "outputs": [
    {
     "data": {
      "image/png": "[encoded data removed]",
      "text/plain": [
       "<Figure size 640x480 with 1 Axes>"
      ]
     },
     "metadata": {},
     "output_type": "display_data"
    }
   ],
   "source": [
    "# Turns out the picture is upside down...took our researchers at google millions of years to figure out lmao\n",
    "def draw_landmarks_basicv2(ldkm):\n",
    "    sns.scatterplot(x= ldkm['x']*250,y= (1-ldkm['y'])*250, hue=ldkm['type'])\n",
    "    plt.show()\n",
    "draw_landmarks_basicv2(t_data.loc[ t_data['frame'] == 29 ])   "
   ]
  },
  {
   "cell_type": "markdown",
   "id": "13ddf5ed",
   "metadata": {
    "papermill": {
     "duration": 0.011332,
     "end_time": "2023-05-19T14:19:14.201190",
     "exception": false,
     "start_time": "2023-05-19T14:19:14.189858",
     "status": "completed"
    },
    "tags": []
   },
   "source": [
    "Much better understanding of features can be found here"
   ]
  },
  {
   "cell_type": "markdown",
   "id": "58f89bbe",
   "metadata": {
    "papermill": {
     "duration": 0.011318,
     "end_time": "2023-05-19T14:19:14.224339",
     "exception": false,
     "start_time": "2023-05-19T14:19:14.213021",
     "status": "completed"
    },
    "tags": []
   },
   "source": [
    "# EDA"
   ]
  },
  {
   "cell_type": "markdown",
   "id": "93b07173",
   "metadata": {
    "papermill": {
     "duration": 0.011438,
     "end_time": "2023-05-19T14:19:14.247416",
     "exception": false,
     "start_time": "2023-05-19T14:19:14.235978",
     "status": "completed"
    },
    "tags": []
   },
   "source": [
    "**Components of Media Pipe Output** [LINK](https://developers.google.com/mediapipe/solutions/vision/holistic_landmarker)\n",
    "- Face (468 markers)\n",
    "- Pose (33 markers)\n",
    "- Hands (21 markers/hand)\n",
    "---\n",
    "We need to determine the most important markers out of these for our task, since we have nearly 543 landmarks! Let us perform a bit of EDA for the same."
   ]
  },
  {
   "cell_type": "code",
   "execution_count": 12,
   "id": "fa48ff07",
   "metadata": {
    "execution": {
     "iopub.execute_input": "2023-05-19T14:19:14.272288Z",
     "iopub.status.busy": "2023-05-19T14:19:14.271254Z",
     "iopub.status.idle": "2023-05-19T14:19:14.279525Z",
     "shell.execute_reply": "2023-05-19T14:19:14.277790Z"
    },
    "papermill": {
     "duration": 0.023835,
     "end_time": "2023-05-19T14:19:14.282180",
     "exception": false,
     "start_time": "2023-05-19T14:19:14.258345",
     "status": "completed"
    },
    "tags": []
   },
   "outputs": [
    {
     "name": "stdout",
     "output_type": "stream",
     "text": [
      "Population size: (94477, 4)\n",
      "Sample size: (100, 4)\n"
     ]
    }
   ],
   "source": [
    "# Since we have a huge dataset (Sizes are too big for us to load the entire frame data)... Let's sample 100 'videos' out of the entire set\n",
    "study_samples = trainmain.iloc[:100]\n",
    "print(\"Population size:\",trainmain.shape)\n",
    "print(\"Sample size:\",study_samples.shape)"
   ]
  },
  {
   "cell_type": "code",
   "execution_count": 13,
   "id": "9462c764",
   "metadata": {
    "execution": {
     "iopub.execute_input": "2023-05-19T14:19:14.307335Z",
     "iopub.status.busy": "2023-05-19T14:19:14.306270Z",
     "iopub.status.idle": "2023-05-19T14:19:14.319826Z",
     "shell.execute_reply": "2023-05-19T14:19:14.318499Z"
    },
    "papermill": {
     "duration": 0.028972,
     "end_time": "2023-05-19T14:19:14.322513",
     "exception": false,
     "start_time": "2023-05-19T14:19:14.293541",
     "status": "completed"
    },
    "tags": []
   },
   "outputs": [
    {
     "data": {
      "text/html": [
       "<div>\n",
       "<style scoped>\n",
       "    .dataframe tbody tr th:only-of-type {\n",
       "        vertical-align: middle;\n",
       "    }\n",
       "\n",
       "    .dataframe tbody tr th {\n",
       "        vertical-align: top;\n",
       "    }\n",
       "\n",
       "    .dataframe thead th {\n",
       "        text-align: right;\n",
       "    }\n",
       "</style>\n",
       "<table border=\"1\" class=\"dataframe\">\n",
       "  <thead>\n",
       "    <tr style=\"text-align: right;\">\n",
       "      <th></th>\n",
       "      <th>path</th>\n",
       "      <th>participant_id</th>\n",
       "      <th>sequence_id</th>\n",
       "      <th>sign</th>\n",
       "    </tr>\n",
       "  </thead>\n",
       "  <tbody>\n",
       "    <tr>\n",
       "      <th>0</th>\n",
       "      <td>train_landmark_files/26734/1000035562.parquet</td>\n",
       "      <td>26734</td>\n",
       "      <td>1000035562</td>\n",
       "      <td>blow</td>\n",
       "    </tr>\n",
       "    <tr>\n",
       "      <th>1</th>\n",
       "      <td>train_landmark_files/28656/1000106739.parquet</td>\n",
       "      <td>28656</td>\n",
       "      <td>1000106739</td>\n",
       "      <td>wait</td>\n",
       "    </tr>\n",
       "    <tr>\n",
       "      <th>2</th>\n",
       "      <td>train_landmark_files/16069/100015657.parquet</td>\n",
       "      <td>16069</td>\n",
       "      <td>100015657</td>\n",
       "      <td>cloud</td>\n",
       "    </tr>\n",
       "    <tr>\n",
       "      <th>3</th>\n",
       "      <td>train_landmark_files/25571/1000210073.parquet</td>\n",
       "      <td>25571</td>\n",
       "      <td>1000210073</td>\n",
       "      <td>bird</td>\n",
       "    </tr>\n",
       "    <tr>\n",
       "      <th>4</th>\n",
       "      <td>train_landmark_files/62590/1000240708.parquet</td>\n",
       "      <td>62590</td>\n",
       "      <td>1000240708</td>\n",
       "      <td>owie</td>\n",
       "    </tr>\n",
       "  </tbody>\n",
       "</table>\n",
       "</div>"
      ],
      "text/plain": [
       "                                            path  participant_id  sequence_id  \\\n",
       "0  train_landmark_files/26734/1000035562.parquet           26734   1000035562   \n",
       "1  train_landmark_files/28656/1000106739.parquet           28656   1000106739   \n",
       "2   train_landmark_files/16069/100015657.parquet           16069    100015657   \n",
       "3  train_landmark_files/25571/1000210073.parquet           25571   1000210073   \n",
       "4  train_landmark_files/62590/1000240708.parquet           62590   1000240708   \n",
       "\n",
       "    sign  \n",
       "0   blow  \n",
       "1   wait  \n",
       "2  cloud  \n",
       "3   bird  \n",
       "4   owie  "
      ]
     },
     "execution_count": 13,
     "metadata": {},
     "output_type": "execute_result"
    }
   ],
   "source": [
    "study_samples.head()"
   ]
  },
  {
   "cell_type": "markdown",
   "id": "1fef7ae1",
   "metadata": {
    "papermill": {
     "duration": 0.011664,
     "end_time": "2023-05-19T14:19:14.346262",
     "exception": false,
     "start_time": "2023-05-19T14:19:14.334598",
     "status": "completed"
    },
    "tags": []
   },
   "source": [
    "**To Perfom complete eda we need to augment the parquet files into the data frame**"
   ]
  },
  {
   "cell_type": "code",
   "execution_count": 14,
   "id": "f86474d9",
   "metadata": {
    "execution": {
     "iopub.execute_input": "2023-05-19T14:19:14.372976Z",
     "iopub.status.busy": "2023-05-19T14:19:14.372049Z",
     "iopub.status.idle": "2023-05-19T14:19:14.379115Z",
     "shell.execute_reply": "2023-05-19T14:19:14.377784Z"
    },
    "papermill": {
     "duration": 0.023065,
     "end_time": "2023-05-19T14:19:14.381669",
     "exception": false,
     "start_time": "2023-05-19T14:19:14.358604",
     "status": "completed"
    },
    "tags": []
   },
   "outputs": [],
   "source": [
    "def aug_parquet(path,pid,seqid):\n",
    "    '''\n",
    "    Input:-\n",
    "    - Path:- file path of parquet data\n",
    "    - pid:- participant_id\n",
    "    - seqid:- sequence_id\n",
    "    Output:-\n",
    "    - Returns augdf which is a augmented dataframe which has pid and seqid columns(which we will use to join the dataframes)\n",
    "    '''\n",
    "    augdf = get_pq_data(path)\n",
    "    augdf['participant_id'] = pid\n",
    "    augdf['sequence_id'] = seqid\n",
    "    return augdf"
   ]
  },
  {
   "cell_type": "code",
   "execution_count": 15,
   "id": "8d1f6e23",
   "metadata": {
    "execution": {
     "iopub.execute_input": "2023-05-19T14:19:14.407542Z",
     "iopub.status.busy": "2023-05-19T14:19:14.406461Z",
     "iopub.status.idle": "2023-05-19T14:19:14.440912Z",
     "shell.execute_reply": "2023-05-19T14:19:14.439676Z"
    },
    "papermill": {
     "duration": 0.049916,
     "end_time": "2023-05-19T14:19:14.443480",
     "exception": false,
     "start_time": "2023-05-19T14:19:14.393564",
     "status": "completed"
    },
    "tags": []
   },
   "outputs": [
    {
     "data": {
      "text/plain": [
       "(12489, 9)"
      ]
     },
     "execution_count": 15,
     "metadata": {},
     "output_type": "execute_result"
    }
   ],
   "source": [
    "# Let's test our function on a small part of our data\n",
    "test = study_samples.iloc[0]\n",
    "testaug = aug_parquet(test['path'],test['participant_id'],test['sequence_id'])\n",
    "testaug.shape"
   ]
  },
  {
   "cell_type": "code",
   "execution_count": 16,
   "id": "b84bbe61",
   "metadata": {
    "execution": {
     "iopub.execute_input": "2023-05-19T14:19:14.469934Z",
     "iopub.status.busy": "2023-05-19T14:19:14.468867Z",
     "iopub.status.idle": "2023-05-19T14:19:21.277252Z",
     "shell.execute_reply": "2023-05-19T14:19:21.276048Z"
    },
    "papermill": {
     "duration": 6.824467,
     "end_time": "2023-05-19T14:19:21.280278",
     "exception": false,
     "start_time": "2023-05-19T14:19:14.455811",
     "status": "completed"
    },
    "tags": []
   },
   "outputs": [
    {
     "data": {
      "text/html": [
       "<div>\n",
       "<style scoped>\n",
       "    .dataframe tbody tr th:only-of-type {\n",
       "        vertical-align: middle;\n",
       "    }\n",
       "\n",
       "    .dataframe tbody tr th {\n",
       "        vertical-align: top;\n",
       "    }\n",
       "\n",
       "    .dataframe thead th {\n",
       "        text-align: right;\n",
       "    }\n",
       "</style>\n",
       "<table border=\"1\" class=\"dataframe\">\n",
       "  <thead>\n",
       "    <tr style=\"text-align: right;\">\n",
       "      <th></th>\n",
       "      <th>frame</th>\n",
       "      <th>row_id</th>\n",
       "      <th>type</th>\n",
       "      <th>landmark_index</th>\n",
       "      <th>x</th>\n",
       "      <th>y</th>\n",
       "      <th>z</th>\n",
       "      <th>participant_id</th>\n",
       "      <th>sequence_id</th>\n",
       "    </tr>\n",
       "  </thead>\n",
       "  <tbody>\n",
       "    <tr>\n",
       "      <th>1724010</th>\n",
       "      <td>26</td>\n",
       "      <td>26-right_hand-6</td>\n",
       "      <td>right_hand</td>\n",
       "      <td>6</td>\n",
       "      <td>0.297091</td>\n",
       "      <td>0.444173</td>\n",
       "      <td>-0.058431</td>\n",
       "      <td>18796</td>\n",
       "      <td>1004199462</td>\n",
       "    </tr>\n",
       "    <tr>\n",
       "      <th>1724011</th>\n",
       "      <td>26</td>\n",
       "      <td>26-right_hand-7</td>\n",
       "      <td>right_hand</td>\n",
       "      <td>7</td>\n",
       "      <td>0.321697</td>\n",
       "      <td>0.414231</td>\n",
       "      <td>-0.073246</td>\n",
       "      <td>18796</td>\n",
       "      <td>1004199462</td>\n",
       "    </tr>\n",
       "    <tr>\n",
       "      <th>1724012</th>\n",
       "      <td>26</td>\n",
       "      <td>26-right_hand-8</td>\n",
       "      <td>right_hand</td>\n",
       "      <td>8</td>\n",
       "      <td>0.337601</td>\n",
       "      <td>0.389799</td>\n",
       "      <td>-0.084633</td>\n",
       "      <td>18796</td>\n",
       "      <td>1004199462</td>\n",
       "    </tr>\n",
       "    <tr>\n",
       "      <th>1724013</th>\n",
       "      <td>26</td>\n",
       "      <td>26-right_hand-9</td>\n",
       "      <td>right_hand</td>\n",
       "      <td>9</td>\n",
       "      <td>0.215545</td>\n",
       "      <td>0.478143</td>\n",
       "      <td>-0.043354</td>\n",
       "      <td>18796</td>\n",
       "      <td>1004199462</td>\n",
       "    </tr>\n",
       "    <tr>\n",
       "      <th>1724014</th>\n",
       "      <td>26</td>\n",
       "      <td>26-right_hand-10</td>\n",
       "      <td>right_hand</td>\n",
       "      <td>10</td>\n",
       "      <td>0.282095</td>\n",
       "      <td>0.418577</td>\n",
       "      <td>-0.064975</td>\n",
       "      <td>18796</td>\n",
       "      <td>1004199462</td>\n",
       "    </tr>\n",
       "    <tr>\n",
       "      <th>1724015</th>\n",
       "      <td>26</td>\n",
       "      <td>26-right_hand-11</td>\n",
       "      <td>right_hand</td>\n",
       "      <td>11</td>\n",
       "      <td>0.311889</td>\n",
       "      <td>0.378092</td>\n",
       "      <td>-0.078721</td>\n",
       "      <td>18796</td>\n",
       "      <td>1004199462</td>\n",
       "    </tr>\n",
       "    <tr>\n",
       "      <th>1724016</th>\n",
       "      <td>26</td>\n",
       "      <td>26-right_hand-12</td>\n",
       "      <td>right_hand</td>\n",
       "      <td>12</td>\n",
       "      <td>0.336066</td>\n",
       "      <td>0.345581</td>\n",
       "      <td>-0.089109</td>\n",
       "      <td>18796</td>\n",
       "      <td>1004199462</td>\n",
       "    </tr>\n",
       "    <tr>\n",
       "      <th>1724017</th>\n",
       "      <td>26</td>\n",
       "      <td>26-right_hand-13</td>\n",
       "      <td>right_hand</td>\n",
       "      <td>13</td>\n",
       "      <td>0.173744</td>\n",
       "      <td>0.476918</td>\n",
       "      <td>-0.054420</td>\n",
       "      <td>18796</td>\n",
       "      <td>1004199462</td>\n",
       "    </tr>\n",
       "    <tr>\n",
       "      <th>1724018</th>\n",
       "      <td>26</td>\n",
       "      <td>26-right_hand-14</td>\n",
       "      <td>right_hand</td>\n",
       "      <td>14</td>\n",
       "      <td>0.206942</td>\n",
       "      <td>0.409067</td>\n",
       "      <td>-0.084310</td>\n",
       "      <td>18796</td>\n",
       "      <td>1004199462</td>\n",
       "    </tr>\n",
       "    <tr>\n",
       "      <th>1724019</th>\n",
       "      <td>26</td>\n",
       "      <td>26-right_hand-15</td>\n",
       "      <td>right_hand</td>\n",
       "      <td>15</td>\n",
       "      <td>0.216088</td>\n",
       "      <td>0.362591</td>\n",
       "      <td>-0.109404</td>\n",
       "      <td>18796</td>\n",
       "      <td>1004199462</td>\n",
       "    </tr>\n",
       "    <tr>\n",
       "      <th>1724020</th>\n",
       "      <td>26</td>\n",
       "      <td>26-right_hand-16</td>\n",
       "      <td>right_hand</td>\n",
       "      <td>16</td>\n",
       "      <td>0.225748</td>\n",
       "      <td>0.328159</td>\n",
       "      <td>-0.125183</td>\n",
       "      <td>18796</td>\n",
       "      <td>1004199462</td>\n",
       "    </tr>\n",
       "    <tr>\n",
       "      <th>1724021</th>\n",
       "      <td>26</td>\n",
       "      <td>26-right_hand-17</td>\n",
       "      <td>right_hand</td>\n",
       "      <td>17</td>\n",
       "      <td>0.122436</td>\n",
       "      <td>0.486300</td>\n",
       "      <td>-0.065768</td>\n",
       "      <td>18796</td>\n",
       "      <td>1004199462</td>\n",
       "    </tr>\n",
       "    <tr>\n",
       "      <th>1724022</th>\n",
       "      <td>26</td>\n",
       "      <td>26-right_hand-18</td>\n",
       "      <td>right_hand</td>\n",
       "      <td>18</td>\n",
       "      <td>0.096734</td>\n",
       "      <td>0.436216</td>\n",
       "      <td>-0.095974</td>\n",
       "      <td>18796</td>\n",
       "      <td>1004199462</td>\n",
       "    </tr>\n",
       "    <tr>\n",
       "      <th>1724023</th>\n",
       "      <td>26</td>\n",
       "      <td>26-right_hand-19</td>\n",
       "      <td>right_hand</td>\n",
       "      <td>19</td>\n",
       "      <td>0.073661</td>\n",
       "      <td>0.403490</td>\n",
       "      <td>-0.114535</td>\n",
       "      <td>18796</td>\n",
       "      <td>1004199462</td>\n",
       "    </tr>\n",
       "    <tr>\n",
       "      <th>1724024</th>\n",
       "      <td>26</td>\n",
       "      <td>26-right_hand-20</td>\n",
       "      <td>right_hand</td>\n",
       "      <td>20</td>\n",
       "      <td>0.057755</td>\n",
       "      <td>0.374644</td>\n",
       "      <td>-0.127012</td>\n",
       "      <td>18796</td>\n",
       "      <td>1004199462</td>\n",
       "    </tr>\n",
       "  </tbody>\n",
       "</table>\n",
       "</div>"
      ],
      "text/plain": [
       "         frame            row_id        type  landmark_index         x  \\\n",
       "1724010     26   26-right_hand-6  right_hand               6  0.297091   \n",
       "1724011     26   26-right_hand-7  right_hand               7  0.321697   \n",
       "1724012     26   26-right_hand-8  right_hand               8  0.337601   \n",
       "1724013     26   26-right_hand-9  right_hand               9  0.215545   \n",
       "1724014     26  26-right_hand-10  right_hand              10  0.282095   \n",
       "1724015     26  26-right_hand-11  right_hand              11  0.311889   \n",
       "1724016     26  26-right_hand-12  right_hand              12  0.336066   \n",
       "1724017     26  26-right_hand-13  right_hand              13  0.173744   \n",
       "1724018     26  26-right_hand-14  right_hand              14  0.206942   \n",
       "1724019     26  26-right_hand-15  right_hand              15  0.216088   \n",
       "1724020     26  26-right_hand-16  right_hand              16  0.225748   \n",
       "1724021     26  26-right_hand-17  right_hand              17  0.122436   \n",
       "1724022     26  26-right_hand-18  right_hand              18  0.096734   \n",
       "1724023     26  26-right_hand-19  right_hand              19  0.073661   \n",
       "1724024     26  26-right_hand-20  right_hand              20  0.057755   \n",
       "\n",
       "                y         z  participant_id  sequence_id  \n",
       "1724010  0.444173 -0.058431           18796   1004199462  \n",
       "1724011  0.414231 -0.073246           18796   1004199462  \n",
       "1724012  0.389799 -0.084633           18796   1004199462  \n",
       "1724013  0.478143 -0.043354           18796   1004199462  \n",
       "1724014  0.418577 -0.064975           18796   1004199462  \n",
       "1724015  0.378092 -0.078721           18796   1004199462  \n",
       "1724016  0.345581 -0.089109           18796   1004199462  \n",
       "1724017  0.476918 -0.054420           18796   1004199462  \n",
       "1724018  0.409067 -0.084310           18796   1004199462  \n",
       "1724019  0.362591 -0.109404           18796   1004199462  \n",
       "1724020  0.328159 -0.125183           18796   1004199462  \n",
       "1724021  0.486300 -0.065768           18796   1004199462  \n",
       "1724022  0.436216 -0.095974           18796   1004199462  \n",
       "1724023  0.403490 -0.114535           18796   1004199462  \n",
       "1724024  0.374644 -0.127012           18796   1004199462  "
      ]
     },
     "execution_count": 16,
     "metadata": {},
     "output_type": "execute_result"
    }
   ],
   "source": [
    "# The last part works! Let's work on augmenting the rest 99 into one augdf!\n",
    "augdf = testaug\n",
    "for i in range(1,100):\n",
    "    iterval = study_samples.iloc[i]\n",
    "    iteraug = aug_parquet(iterval['path'],iterval['participant_id'],iterval['sequence_id'])\n",
    "    augdf = augdf.append(iteraug,ignore_index = True)\n",
    "augdf.tail(15)"
   ]
  },
  {
   "cell_type": "code",
   "execution_count": 17,
   "id": "082416d7",
   "metadata": {
    "execution": {
     "iopub.execute_input": "2023-05-19T14:19:21.307423Z",
     "iopub.status.busy": "2023-05-19T14:19:21.307071Z",
     "iopub.status.idle": "2023-05-19T14:19:21.819946Z",
     "shell.execute_reply": "2023-05-19T14:19:21.818522Z"
    },
    "papermill": {
     "duration": 0.530015,
     "end_time": "2023-05-19T14:19:21.823514",
     "exception": false,
     "start_time": "2023-05-19T14:19:21.293499",
     "status": "completed"
    },
    "tags": []
   },
   "outputs": [
    {
     "data": {
      "text/html": [
       "<div>\n",
       "<style scoped>\n",
       "    .dataframe tbody tr th:only-of-type {\n",
       "        vertical-align: middle;\n",
       "    }\n",
       "\n",
       "    .dataframe tbody tr th {\n",
       "        vertical-align: top;\n",
       "    }\n",
       "\n",
       "    .dataframe thead th {\n",
       "        text-align: right;\n",
       "    }\n",
       "</style>\n",
       "<table border=\"1\" class=\"dataframe\">\n",
       "  <thead>\n",
       "    <tr style=\"text-align: right;\">\n",
       "      <th></th>\n",
       "      <th>path</th>\n",
       "      <th>participant_id</th>\n",
       "      <th>sequence_id</th>\n",
       "      <th>sign</th>\n",
       "      <th>frame</th>\n",
       "      <th>row_id</th>\n",
       "      <th>type</th>\n",
       "      <th>landmark_index</th>\n",
       "      <th>x</th>\n",
       "      <th>y</th>\n",
       "      <th>z</th>\n",
       "    </tr>\n",
       "  </thead>\n",
       "  <tbody>\n",
       "    <tr>\n",
       "      <th>0</th>\n",
       "      <td>train_landmark_files/26734/1000035562.parquet</td>\n",
       "      <td>26734</td>\n",
       "      <td>1000035562</td>\n",
       "      <td>blow</td>\n",
       "      <td>20</td>\n",
       "      <td>20-face-0</td>\n",
       "      <td>face</td>\n",
       "      <td>0</td>\n",
       "      <td>0.494400</td>\n",
       "      <td>0.380470</td>\n",
       "      <td>-0.030626</td>\n",
       "    </tr>\n",
       "    <tr>\n",
       "      <th>1</th>\n",
       "      <td>train_landmark_files/26734/1000035562.parquet</td>\n",
       "      <td>26734</td>\n",
       "      <td>1000035562</td>\n",
       "      <td>blow</td>\n",
       "      <td>20</td>\n",
       "      <td>20-face-1</td>\n",
       "      <td>face</td>\n",
       "      <td>1</td>\n",
       "      <td>0.496017</td>\n",
       "      <td>0.350735</td>\n",
       "      <td>-0.057565</td>\n",
       "    </tr>\n",
       "    <tr>\n",
       "      <th>2</th>\n",
       "      <td>train_landmark_files/26734/1000035562.parquet</td>\n",
       "      <td>26734</td>\n",
       "      <td>1000035562</td>\n",
       "      <td>blow</td>\n",
       "      <td>20</td>\n",
       "      <td>20-face-2</td>\n",
       "      <td>face</td>\n",
       "      <td>2</td>\n",
       "      <td>0.500818</td>\n",
       "      <td>0.359343</td>\n",
       "      <td>-0.030283</td>\n",
       "    </tr>\n",
       "    <tr>\n",
       "      <th>3</th>\n",
       "      <td>train_landmark_files/26734/1000035562.parquet</td>\n",
       "      <td>26734</td>\n",
       "      <td>1000035562</td>\n",
       "      <td>blow</td>\n",
       "      <td>20</td>\n",
       "      <td>20-face-3</td>\n",
       "      <td>face</td>\n",
       "      <td>3</td>\n",
       "      <td>0.489788</td>\n",
       "      <td>0.321780</td>\n",
       "      <td>-0.040622</td>\n",
       "    </tr>\n",
       "    <tr>\n",
       "      <th>4</th>\n",
       "      <td>train_landmark_files/26734/1000035562.parquet</td>\n",
       "      <td>26734</td>\n",
       "      <td>1000035562</td>\n",
       "      <td>blow</td>\n",
       "      <td>20</td>\n",
       "      <td>20-face-4</td>\n",
       "      <td>face</td>\n",
       "      <td>4</td>\n",
       "      <td>0.495304</td>\n",
       "      <td>0.341821</td>\n",
       "      <td>-0.061152</td>\n",
       "    </tr>\n",
       "  </tbody>\n",
       "</table>\n",
       "</div>"
      ],
      "text/plain": [
       "                                            path  participant_id  sequence_id  \\\n",
       "0  train_landmark_files/26734/1000035562.parquet           26734   1000035562   \n",
       "1  train_landmark_files/26734/1000035562.parquet           26734   1000035562   \n",
       "2  train_landmark_files/26734/1000035562.parquet           26734   1000035562   \n",
       "3  train_landmark_files/26734/1000035562.parquet           26734   1000035562   \n",
       "4  train_landmark_files/26734/1000035562.parquet           26734   1000035562   \n",
       "\n",
       "   sign  frame     row_id  type  landmark_index         x         y         z  \n",
       "0  blow     20  20-face-0  face               0  0.494400  0.380470 -0.030626  \n",
       "1  blow     20  20-face-1  face               1  0.496017  0.350735 -0.057565  \n",
       "2  blow     20  20-face-2  face               2  0.500818  0.359343 -0.030283  \n",
       "3  blow     20  20-face-3  face               3  0.489788  0.321780 -0.040622  \n",
       "4  blow     20  20-face-4  face               4  0.495304  0.341821 -0.061152  "
      ]
     },
     "execution_count": 17,
     "metadata": {},
     "output_type": "execute_result"
    }
   ],
   "source": [
    "# We have all the data we need to do EDA on this sample...Just one join away! (Cross fingers n hope aws doesn't assassinate me!)\n",
    "eda_sample = pd.merge(study_samples , augdf,on = ['participant_id','sequence_id'],how ='inner')\n",
    "eda_sample.head()"
   ]
  },
  {
   "cell_type": "code",
   "execution_count": 18,
   "id": "1a8f6fd4",
   "metadata": {
    "execution": {
     "iopub.execute_input": "2023-05-19T14:19:21.850508Z",
     "iopub.status.busy": "2023-05-19T14:19:21.850140Z",
     "iopub.status.idle": "2023-05-19T14:19:21.858194Z",
     "shell.execute_reply": "2023-05-19T14:19:21.856971Z"
    },
    "papermill": {
     "duration": 0.024265,
     "end_time": "2023-05-19T14:19:21.860581",
     "exception": false,
     "start_time": "2023-05-19T14:19:21.836316",
     "status": "completed"
    },
    "tags": []
   },
   "outputs": [],
   "source": [
    "def create_input(df,i,j):\n",
    "    '''\n",
    "    Input:-\n",
    "    - df:- dataframe\n",
    "    - i:- starting point of data\n",
    "    - j:- ending point of data\n",
    "    Output:-\n",
    "    - Returns augdf which is a augmented dataframe which has pid and seqid columns(which we will use to join the dataframes)\n",
    "    '''\n",
    "    aug = aug_parquet(df['path'],df['participant_id'],df['sequence_id'])\n",
    "    for i in range(i,j):\n",
    "        iterval = study_samples.iloc[i]\n",
    "        iteraug = aug_parquet(iterval['path'],iterval['participant_id'],iterval['sequence_id'])\n",
    "        augdf = augdf.append(iteraug,ignore_index = True)\n",
    "    eda_sample = pd.merge(df , augdf,on = ['participant_id','sequence_id'],how ='inner')"
   ]
  },
  {
   "cell_type": "code",
   "execution_count": 19,
   "id": "b4ea429b",
   "metadata": {
    "execution": {
     "iopub.execute_input": "2023-05-19T14:19:21.886973Z",
     "iopub.status.busy": "2023-05-19T14:19:21.886589Z",
     "iopub.status.idle": "2023-05-19T14:19:22.084654Z",
     "shell.execute_reply": "2023-05-19T14:19:22.082906Z"
    },
    "papermill": {
     "duration": 0.214385,
     "end_time": "2023-05-19T14:19:22.087266",
     "exception": false,
     "start_time": "2023-05-19T14:19:21.872881",
     "status": "completed"
    },
    "tags": []
   },
   "outputs": [
    {
     "data": {
      "text/plain": [
       "{'cloud': 179190,\n",
       " 'TV': 111315,\n",
       " 'mitten': 76563,\n",
       " 'clown': 68961,\n",
       " 'alligator': 67875,\n",
       " 'owl': 62445,\n",
       " 'brother': 41811,\n",
       " 'closet': 40725,\n",
       " 'flower': 39639,\n",
       " 'old': 36924,\n",
       " 'scissors': 36381,\n",
       " 'shoe': 34209,\n",
       " 'moon': 33666,\n",
       " 'drawer': 32580,\n",
       " 'uncle': 32580,\n",
       " 'finish': 32037,\n",
       " 'lips': 30951,\n",
       " 'orange': 28779,\n",
       " 'find': 27150,\n",
       " 'bad': 26064,\n",
       " 'duck': 26064,\n",
       " 'same': 23892,\n",
       " 'store': 23892,\n",
       " 'there': 23349,\n",
       " 'yellow': 22263,\n",
       " 'can': 22263,\n",
       " 'dry': 21177,\n",
       " 'wake': 20634,\n",
       " 'backyard': 19548,\n",
       " 'vacuum': 17919,\n",
       " 'first': 17919,\n",
       " 'time': 17376,\n",
       " 'hungry': 17376,\n",
       " 'shirt': 16290,\n",
       " 'blow': 15747,\n",
       " 'fish': 15204,\n",
       " 'balloon': 14661,\n",
       " 'milk': 14661,\n",
       " 'quiet': 14118,\n",
       " 'sick': 13032,\n",
       " 'go': 13032,\n",
       " 'minemy': 12489,\n",
       " 'shhh': 12489,\n",
       " 'pizza': 12489,\n",
       " 'giraffe': 12489,\n",
       " 'cowboy': 11403,\n",
       " 'say': 10860,\n",
       " 'puzzle': 10317,\n",
       " 'bee': 10317,\n",
       " 'owie': 9774,\n",
       " 'not': 9774,\n",
       " 'open': 9774,\n",
       " 'wet': 9231,\n",
       " 'cheek': 9231,\n",
       " 'black': 8145,\n",
       " 'sun': 8145,\n",
       " 'jacket': 7602,\n",
       " 'look': 7602,\n",
       " 'grass': 7602,\n",
       " 'now': 7602,\n",
       " 'apple': 7059,\n",
       " 'zipper': 7059,\n",
       " 'bird': 6516,\n",
       " 'clean': 6516,\n",
       " 'finger': 6516,\n",
       " 'man': 6516,\n",
       " 'cute': 5973,\n",
       " 'wait': 5973,\n",
       " 'callonphone': 4887,\n",
       " 'sleep': 4344,\n",
       " 'empty': 4344,\n",
       " 'see': 3801,\n",
       " 'fall': 3801,\n",
       " 'yourself': 3801,\n",
       " 'that': 3258,\n",
       " 'jump': 3258,\n",
       " 'sticky': 3258,\n",
       " 'fast': 3258,\n",
       " 'frenchfries': 3258,\n",
       " 'have': 3258,\n",
       " 'another': 3258,\n",
       " 'cry': 3258,\n",
       " 'snow': 3258}"
      ]
     },
     "execution_count": 19,
     "metadata": {},
     "output_type": "execute_result"
    }
   ],
   "source": [
    "#sign frequency distribution\n",
    "dict(eda_sample['sign'].value_counts())"
   ]
  },
  {
   "cell_type": "code",
   "execution_count": 20,
   "id": "1baa1786",
   "metadata": {
    "execution": {
     "iopub.execute_input": "2023-05-19T14:19:22.114696Z",
     "iopub.status.busy": "2023-05-19T14:19:22.114323Z",
     "iopub.status.idle": "2023-05-19T14:19:22.119274Z",
     "shell.execute_reply": "2023-05-19T14:19:22.117881Z"
    },
    "papermill": {
     "duration": 0.021988,
     "end_time": "2023-05-19T14:19:22.122366",
     "exception": false,
     "start_time": "2023-05-19T14:19:22.100378",
     "status": "completed"
    },
    "tags": []
   },
   "outputs": [],
   "source": [
    "# Checking distribution of parameters over the "
   ]
  }
 ],
 "metadata": {
  "kernelspec": {
   "display_name": "Python 3",
   "language": "python",
   "name": "python3"
  },
  "language_info": {
   "codemirror_mode": {
    "name": "ipython",
    "version": 3
   },
   "file_extension": ".py",
   "mimetype": "text/x-python",
   "name": "python",
   "nbconvert_exporter": "python",
   "pygments_lexer": "ipython3",
   "version": "3.7.12"
  },
  "papermill": {
   "default_parameters": {},
   "duration": 24.621727,
   "end_time": "2023-05-19T14:19:22.857850",
   "environment_variables": {},
   "exception": null,
   "input_path": "__notebook__.ipynb",
   "output_path": "__notebook__.ipynb",
   "parameters": {},
   "start_time": "2023-05-19T14:18:58.236123",
   "version": "2.4.0"
  }
 },
 "nbformat": 4,
 "nbformat_minor": 5
}
